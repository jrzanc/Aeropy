from cia_aerea.emitidos import CiaAreaIssued
from cia_aerea.emitidos_cancelados import CiaAreaIssuedCancelled
from cia_aerea.bilhetes_outros_periodos import CiaAreaCancelsOtherPeriods
#from cia_aerea.base import CiaAerea
from planilhas.manipulados import Planilha


worksheet_excel = Planilha()
address = worksheet_excel.flow() 
issued = CiaAreaIssued(address)
issued.flow()
issued_cancelled = CiaAreaIssuedCancelled(address)
issued_cancelled.flow()



