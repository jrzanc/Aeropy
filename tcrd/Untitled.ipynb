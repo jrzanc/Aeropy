{
 "cells": [
  {
   "cell_type": "code",
   "execution_count": 12,
   "id": "9452f6d4-cb75-4f13-be3a-f86e5e6100d7",
   "metadata": {},
   "outputs": [],
   "source": [
    "from planilhas.manipulados import Planilha\n",
    "from tcrp.cia_aerea.emitidos import CiaAreaIssued"
   ]
  },
  {
   "cell_type": "code",
   "execution_count": 11,
   "id": "4b539ba0-6cd2-4f84-9689-af0a3a44b425",
   "metadata": {},
   "outputs": [
    {
     "name": "stdout",
     "output_type": "stream",
     "text": [
      "Arquivo Excel copiado com sucesso!\n"
     ]
    }
   ],
   "source": [
    "worksheet_excel_planilha_medicao_provisoria=Planilha()\n",
    "address_planilha_medicao_provisoria = worksheet_excel_planilha_medicao_provisoria.flow(\"Selecione Planilha de Medição Definitiva\")\n"
   ]
  },
  {
   "cell_type": "code",
   "execution_count": 13,
   "id": "218f29a7-0449-4d0f-a536-75baa6929d94",
   "metadata": {},
   "outputs": [
    {
     "name": "stderr",
     "output_type": "stream",
     "text": [
      "/home/python/anaconda3/envs/Aeropy_env/lib/python3.13/site-packages/openpyxl/styles/stylesheet.py:237: UserWarning: Workbook contains no default style, apply openpyxl's default\n",
      "  warn(\"Workbook contains no default style, apply openpyxl's default\")\n"
     ]
    },
    {
     "ename": "TypeError",
     "evalue": "expected string or bytes-like object, got 'NoneType'",
     "output_type": "error",
     "traceback": [
      "\u001b[31m---------------------------------------------------------------------------\u001b[39m",
      "\u001b[31mTypeError\u001b[39m                                 Traceback (most recent call last)",
      "\u001b[36mCell\u001b[39m\u001b[36m \u001b[39m\u001b[32mIn[13]\u001b[39m\u001b[32m, line 1\u001b[39m\n\u001b[32m----> \u001b[39m\u001b[32m1\u001b[39m issued = \u001b[43mCiaAreaIssued\u001b[49m\u001b[43m(\u001b[49m\u001b[43maddress_planilha_medicao_provisoria\u001b[49m\u001b[43m)\u001b[49m\n",
      "\u001b[36mFile \u001b[39m\u001b[32m~/Documents/Aeropy/tcrp/cia_aerea/emitidos.py:10\u001b[39m, in \u001b[36mCiaAreaIssued.__init__\u001b[39m\u001b[34m(self, address)\u001b[39m\n\u001b[32m      9\u001b[39m \u001b[38;5;28;01mdef\u001b[39;00m\u001b[38;5;250m \u001b[39m\u001b[34m__init__\u001b[39m(\u001b[38;5;28mself\u001b[39m,address):\n\u001b[32m---> \u001b[39m\u001b[32m10\u001b[39m     \u001b[38;5;28;43msuper\u001b[39;49m\u001b[43m(\u001b[49m\u001b[43m)\u001b[49m\u001b[43m.\u001b[49m\u001b[34;43m__init__\u001b[39;49m\u001b[43m(\u001b[49m\u001b[43maddress\u001b[49m\u001b[43m)\u001b[49m\n\u001b[32m     11\u001b[39m     \u001b[38;5;28mself\u001b[39m.table=\u001b[38;5;28mself\u001b[39m.get_table()\n",
      "\u001b[36mFile \u001b[39m\u001b[32m~/Documents/Aeropy/tcrp/cia_aerea/base.py:15\u001b[39m, in \u001b[36mCiaAerea.__init__\u001b[39m\u001b[34m(self, address)\u001b[39m\n\u001b[32m     13\u001b[39m \u001b[38;5;28;01mdef\u001b[39;00m\u001b[38;5;250m \u001b[39m\u001b[34m__init__\u001b[39m(\u001b[38;5;28mself\u001b[39m,address):\n\u001b[32m     14\u001b[39m     \u001b[38;5;28mself\u001b[39m.address=address\n\u001b[32m---> \u001b[39m\u001b[32m15\u001b[39m     \u001b[38;5;28mself\u001b[39m.metadata=\u001b[43mSpreadsheetMetadata\u001b[49m\u001b[43m(\u001b[49m\u001b[43maddress\u001b[49m\u001b[43m)\u001b[49m\n\u001b[32m     16\u001b[39m     \u001b[38;5;28mself\u001b[39m.table=\u001b[38;5;28mself\u001b[39m.get_table()\n",
      "\u001b[36mFile \u001b[39m\u001b[32m~/Documents/Aeropy/tcrp/planilhas/metadata.py:11\u001b[39m, in \u001b[36mSpreadsheetMetadata.__init__\u001b[39m\u001b[34m(self, address)\u001b[39m\n\u001b[32m      9\u001b[39m \u001b[38;5;28mself\u001b[39m.cabecalho=\u001b[38;5;28mself\u001b[39m.get_cabecalho(\u001b[38;5;28mself\u001b[39m.address)\n\u001b[32m     10\u001b[39m \u001b[38;5;28mself\u001b[39m.cia=\u001b[38;5;28mself\u001b[39m.set_cia()\n\u001b[32m---> \u001b[39m\u001b[32m11\u001b[39m \u001b[38;5;28mself\u001b[39m.start_billing_period=\u001b[38;5;28;43mself\u001b[39;49m\u001b[43m.\u001b[49m\u001b[43mset_start_billing_period\u001b[49m\u001b[43m(\u001b[49m\u001b[43m)\u001b[49m\n\u001b[32m     12\u001b[39m \u001b[38;5;28mself\u001b[39m.end_billing_period=\u001b[38;5;28mself\u001b[39m.set_end_billing_period()\n",
      "\u001b[36mFile \u001b[39m\u001b[32m~/Documents/Aeropy/tcrp/planilhas/metadata.py:23\u001b[39m, in \u001b[36mSpreadsheetMetadata.set_start_billing_period\u001b[39m\u001b[34m(self)\u001b[39m\n\u001b[32m     22\u001b[39m \u001b[38;5;28;01mdef\u001b[39;00m\u001b[38;5;250m \u001b[39m\u001b[34mset_start_billing_period\u001b[39m(\u001b[38;5;28mself\u001b[39m):\n\u001b[32m---> \u001b[39m\u001b[32m23\u001b[39m     date=\u001b[43mre\u001b[49m\u001b[43m.\u001b[49m\u001b[43msplit\u001b[49m\u001b[43m(\u001b[49m\u001b[33;43mr\u001b[39;49m\u001b[33;43m\"\u001b[39;49m\u001b[33;43m[ /]\u001b[39;49m\u001b[33;43m\"\u001b[39;49m\u001b[43m,\u001b[49m\u001b[38;5;28;43mself\u001b[39;49m\u001b[43m.\u001b[49m\u001b[43mcabecalho\u001b[49m\u001b[43m[\u001b[49m\u001b[32;43m1\u001b[39;49m\u001b[43m]\u001b[49m\u001b[43m[\u001b[49m\u001b[32;43m5\u001b[39;49m\u001b[43m]\u001b[49m\u001b[43m)\u001b[49m\n\u001b[32m     24\u001b[39m     start_str=\u001b[33m\"\u001b[39m\u001b[33m-\u001b[39m\u001b[33m\"\u001b[39m.join([date[\u001b[32m0\u001b[39m],date[\u001b[32m1\u001b[39m],date[-\u001b[32m1\u001b[39m]])+\u001b[33m\"\u001b[39m\u001b[33m 00:00:00\u001b[39m\u001b[33m\"\u001b[39m        \n\u001b[32m     25\u001b[39m     start = datetime.strptime(start_str, \u001b[33m\"\u001b[39m\u001b[38;5;132;01m%d\u001b[39;00m\u001b[33m-\u001b[39m\u001b[33m%\u001b[39m\u001b[33mm-\u001b[39m\u001b[33m%\u001b[39m\u001b[33mY \u001b[39m\u001b[33m%\u001b[39m\u001b[33mH:\u001b[39m\u001b[33m%\u001b[39m\u001b[33mM:\u001b[39m\u001b[33m%\u001b[39m\u001b[33mS\u001b[39m\u001b[33m\"\u001b[39m)        \n",
      "\u001b[36mFile \u001b[39m\u001b[32m~/anaconda3/envs/Aeropy_env/lib/python3.13/re/__init__.py:267\u001b[39m, in \u001b[36msplit\u001b[39m\u001b[34m(pattern, string, maxsplit, flags, *args)\u001b[39m\n\u001b[32m    261\u001b[39m     \u001b[38;5;28;01mimport\u001b[39;00m\u001b[38;5;250m \u001b[39m\u001b[34;01mwarnings\u001b[39;00m\n\u001b[32m    262\u001b[39m     warnings.warn(\n\u001b[32m    263\u001b[39m         \u001b[33m\"\u001b[39m\u001b[33m'\u001b[39m\u001b[33mmaxsplit\u001b[39m\u001b[33m'\u001b[39m\u001b[33m is passed as positional argument\u001b[39m\u001b[33m\"\u001b[39m,\n\u001b[32m    264\u001b[39m         \u001b[38;5;167;01mDeprecationWarning\u001b[39;00m, stacklevel=\u001b[32m2\u001b[39m\n\u001b[32m    265\u001b[39m     )\n\u001b[32m--> \u001b[39m\u001b[32m267\u001b[39m \u001b[38;5;28;01mreturn\u001b[39;00m \u001b[43m_compile\u001b[49m\u001b[43m(\u001b[49m\u001b[43mpattern\u001b[49m\u001b[43m,\u001b[49m\u001b[43m \u001b[49m\u001b[43mflags\u001b[49m\u001b[43m)\u001b[49m\u001b[43m.\u001b[49m\u001b[43msplit\u001b[49m\u001b[43m(\u001b[49m\u001b[43mstring\u001b[49m\u001b[43m,\u001b[49m\u001b[43m \u001b[49m\u001b[43mmaxsplit\u001b[49m\u001b[43m)\u001b[49m\n",
      "\u001b[31mTypeError\u001b[39m: expected string or bytes-like object, got 'NoneType'"
     ]
    }
   ],
   "source": [
    "issued = CiaAreaIssued(address_planilha_medicao_provisoria)"
   ]
  },
  {
   "cell_type": "code",
   "execution_count": null,
   "id": "80a78f0b-8580-4658-b9ea-4f57280d1b5e",
   "metadata": {},
   "outputs": [],
   "source": []
  }
 ],
 "metadata": {
  "kernelspec": {
   "display_name": "Python 3 (ipykernel)",
   "language": "python",
   "name": "python3"
  },
  "language_info": {
   "codemirror_mode": {
    "name": "ipython",
    "version": 3
   },
   "file_extension": ".py",
   "mimetype": "text/x-python",
   "name": "python",
   "nbconvert_exporter": "python",
   "pygments_lexer": "ipython3",
   "version": "3.13.7"
  }
 },
 "nbformat": 4,
 "nbformat_minor": 5
}
