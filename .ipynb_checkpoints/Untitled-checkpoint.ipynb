{
 "cells": [
  {
   "cell_type": "code",
   "execution_count": 2,
   "id": "49f7e5fa-b99f-4449-914f-1e2ea897d8ba",
   "metadata": {},
   "outputs": [
    {
     "name": "stderr",
     "output_type": "stream",
     "text": [
      "Access is denied.\n"
     ]
    }
   ],
   "source": [
    "!pip install pyinstaller\n"
   ]
  },
  {
   "cell_type": "code",
   "execution_count": 1,
   "id": "51dfd0de-2080-4bbf-8234-1a8b6b163463",
   "metadata": {},
   "outputs": [
    {
     "name": "stderr",
     "output_type": "stream",
     "text": [
      "'pyinstaller' is not recognized as an internal or external command,\n",
      "operable program or batch file.\n"
     ]
    }
   ],
   "source": [
    "!pyinstaller --onefile --windowed --icon=Aeropy.ico Aeropy_2.0.py"
   ]
  },
  {
   "cell_type": "code",
   "execution_count": null,
   "id": "79d427b0-dcb2-49f1-bf86-347a4529ec06",
   "metadata": {},
   "outputs": [],
   "source": []
  }
 ],
 "metadata": {
  "kernelspec": {
   "display_name": "Python 3 (ipykernel)",
   "language": "python",
   "name": "python3"
  },
  "language_info": {
   "codemirror_mode": {
    "name": "ipython",
    "version": 3
   },
   "file_extension": ".py",
   "mimetype": "text/x-python",
   "name": "python",
   "nbconvert_exporter": "python",
   "pygments_lexer": "ipython3",
   "version": "3.13.5"
  }
 },
 "nbformat": 4,
 "nbformat_minor": 5
}
